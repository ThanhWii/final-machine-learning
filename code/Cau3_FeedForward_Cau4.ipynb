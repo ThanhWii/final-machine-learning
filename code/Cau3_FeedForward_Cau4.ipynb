{
  "cells": [
    {
      "cell_type": "markdown",
      "source": [
        "# TRẦN ĐỖ TRUNG KIÊN – 52000679\n",
        "# HUỲNH HỒNG SƠN - 52000795\n",
        "# NGUYỄN THÀNH HUY - 52100895"
      ],
      "metadata": {
        "id": "r5Yk9YFtylkJ"
      }
    },
    {
      "cell_type": "code",
      "source": [
        "from google.colab import files\n",
        "uploaded = files.upload()"
      ],
      "metadata": {
        "colab": {
          "base_uri": "https://localhost:8080/",
          "height": 73
        },
        "id": "PqWzuEMqJgJo",
        "outputId": "318a4829-af08-47f8-a011-69d6e9b9ef7f"
      },
      "execution_count": null,
      "outputs": [
        {
          "output_type": "display_data",
          "data": {
            "text/plain": [
              "<IPython.core.display.HTML object>"
            ],
            "text/html": [
              "\n",
              "     <input type=\"file\" id=\"files-bc3a2ff8-361b-4793-8239-6786417a756c\" name=\"files[]\" multiple disabled\n",
              "        style=\"border:none\" />\n",
              "     <output id=\"result-bc3a2ff8-361b-4793-8239-6786417a756c\">\n",
              "      Upload widget is only available when the cell has been executed in the\n",
              "      current browser session. Please rerun this cell to enable.\n",
              "      </output>\n",
              "      <script>// Copyright 2017 Google LLC\n",
              "//\n",
              "// Licensed under the Apache License, Version 2.0 (the \"License\");\n",
              "// you may not use this file except in compliance with the License.\n",
              "// You may obtain a copy of the License at\n",
              "//\n",
              "//      http://www.apache.org/licenses/LICENSE-2.0\n",
              "//\n",
              "// Unless required by applicable law or agreed to in writing, software\n",
              "// distributed under the License is distributed on an \"AS IS\" BASIS,\n",
              "// WITHOUT WARRANTIES OR CONDITIONS OF ANY KIND, either express or implied.\n",
              "// See the License for the specific language governing permissions and\n",
              "// limitations under the License.\n",
              "\n",
              "/**\n",
              " * @fileoverview Helpers for google.colab Python module.\n",
              " */\n",
              "(function(scope) {\n",
              "function span(text, styleAttributes = {}) {\n",
              "  const element = document.createElement('span');\n",
              "  element.textContent = text;\n",
              "  for (const key of Object.keys(styleAttributes)) {\n",
              "    element.style[key] = styleAttributes[key];\n",
              "  }\n",
              "  return element;\n",
              "}\n",
              "\n",
              "// Max number of bytes which will be uploaded at a time.\n",
              "const MAX_PAYLOAD_SIZE = 100 * 1024;\n",
              "\n",
              "function _uploadFiles(inputId, outputId) {\n",
              "  const steps = uploadFilesStep(inputId, outputId);\n",
              "  const outputElement = document.getElementById(outputId);\n",
              "  // Cache steps on the outputElement to make it available for the next call\n",
              "  // to uploadFilesContinue from Python.\n",
              "  outputElement.steps = steps;\n",
              "\n",
              "  return _uploadFilesContinue(outputId);\n",
              "}\n",
              "\n",
              "// This is roughly an async generator (not supported in the browser yet),\n",
              "// where there are multiple asynchronous steps and the Python side is going\n",
              "// to poll for completion of each step.\n",
              "// This uses a Promise to block the python side on completion of each step,\n",
              "// then passes the result of the previous step as the input to the next step.\n",
              "function _uploadFilesContinue(outputId) {\n",
              "  const outputElement = document.getElementById(outputId);\n",
              "  const steps = outputElement.steps;\n",
              "\n",
              "  const next = steps.next(outputElement.lastPromiseValue);\n",
              "  return Promise.resolve(next.value.promise).then((value) => {\n",
              "    // Cache the last promise value to make it available to the next\n",
              "    // step of the generator.\n",
              "    outputElement.lastPromiseValue = value;\n",
              "    return next.value.response;\n",
              "  });\n",
              "}\n",
              "\n",
              "/**\n",
              " * Generator function which is called between each async step of the upload\n",
              " * process.\n",
              " * @param {string} inputId Element ID of the input file picker element.\n",
              " * @param {string} outputId Element ID of the output display.\n",
              " * @return {!Iterable<!Object>} Iterable of next steps.\n",
              " */\n",
              "function* uploadFilesStep(inputId, outputId) {\n",
              "  const inputElement = document.getElementById(inputId);\n",
              "  inputElement.disabled = false;\n",
              "\n",
              "  const outputElement = document.getElementById(outputId);\n",
              "  outputElement.innerHTML = '';\n",
              "\n",
              "  const pickedPromise = new Promise((resolve) => {\n",
              "    inputElement.addEventListener('change', (e) => {\n",
              "      resolve(e.target.files);\n",
              "    });\n",
              "  });\n",
              "\n",
              "  const cancel = document.createElement('button');\n",
              "  inputElement.parentElement.appendChild(cancel);\n",
              "  cancel.textContent = 'Cancel upload';\n",
              "  const cancelPromise = new Promise((resolve) => {\n",
              "    cancel.onclick = () => {\n",
              "      resolve(null);\n",
              "    };\n",
              "  });\n",
              "\n",
              "  // Wait for the user to pick the files.\n",
              "  const files = yield {\n",
              "    promise: Promise.race([pickedPromise, cancelPromise]),\n",
              "    response: {\n",
              "      action: 'starting',\n",
              "    }\n",
              "  };\n",
              "\n",
              "  cancel.remove();\n",
              "\n",
              "  // Disable the input element since further picks are not allowed.\n",
              "  inputElement.disabled = true;\n",
              "\n",
              "  if (!files) {\n",
              "    return {\n",
              "      response: {\n",
              "        action: 'complete',\n",
              "      }\n",
              "    };\n",
              "  }\n",
              "\n",
              "  for (const file of files) {\n",
              "    const li = document.createElement('li');\n",
              "    li.append(span(file.name, {fontWeight: 'bold'}));\n",
              "    li.append(span(\n",
              "        `(${file.type || 'n/a'}) - ${file.size} bytes, ` +\n",
              "        `last modified: ${\n",
              "            file.lastModifiedDate ? file.lastModifiedDate.toLocaleDateString() :\n",
              "                                    'n/a'} - `));\n",
              "    const percent = span('0% done');\n",
              "    li.appendChild(percent);\n",
              "\n",
              "    outputElement.appendChild(li);\n",
              "\n",
              "    const fileDataPromise = new Promise((resolve) => {\n",
              "      const reader = new FileReader();\n",
              "      reader.onload = (e) => {\n",
              "        resolve(e.target.result);\n",
              "      };\n",
              "      reader.readAsArrayBuffer(file);\n",
              "    });\n",
              "    // Wait for the data to be ready.\n",
              "    let fileData = yield {\n",
              "      promise: fileDataPromise,\n",
              "      response: {\n",
              "        action: 'continue',\n",
              "      }\n",
              "    };\n",
              "\n",
              "    // Use a chunked sending to avoid message size limits. See b/62115660.\n",
              "    let position = 0;\n",
              "    do {\n",
              "      const length = Math.min(fileData.byteLength - position, MAX_PAYLOAD_SIZE);\n",
              "      const chunk = new Uint8Array(fileData, position, length);\n",
              "      position += length;\n",
              "\n",
              "      const base64 = btoa(String.fromCharCode.apply(null, chunk));\n",
              "      yield {\n",
              "        response: {\n",
              "          action: 'append',\n",
              "          file: file.name,\n",
              "          data: base64,\n",
              "        },\n",
              "      };\n",
              "\n",
              "      let percentDone = fileData.byteLength === 0 ?\n",
              "          100 :\n",
              "          Math.round((position / fileData.byteLength) * 100);\n",
              "      percent.textContent = `${percentDone}% done`;\n",
              "\n",
              "    } while (position < fileData.byteLength);\n",
              "  }\n",
              "\n",
              "  // All done.\n",
              "  yield {\n",
              "    response: {\n",
              "      action: 'complete',\n",
              "    }\n",
              "  };\n",
              "}\n",
              "\n",
              "scope.google = scope.google || {};\n",
              "scope.google.colab = scope.google.colab || {};\n",
              "scope.google.colab._files = {\n",
              "  _uploadFiles,\n",
              "  _uploadFilesContinue,\n",
              "};\n",
              "})(self);\n",
              "</script> "
            ]
          },
          "metadata": {}
        },
        {
          "output_type": "stream",
          "name": "stdout",
          "text": [
            "Saving diabetes_012_health_indicators_BRFSS2021.csv to diabetes_012_health_indicators_BRFSS2021.csv\n"
          ]
        }
      ]
    },
    {
      "cell_type": "code",
      "source": [
        "!ls"
      ],
      "metadata": {
        "colab": {
          "base_uri": "https://localhost:8080/"
        },
        "id": "OMPwv78uJguS",
        "outputId": "6dfd5bcd-ee87-45e2-c945-0c4b49452bf1"
      },
      "execution_count": null,
      "outputs": [
        {
          "output_type": "stream",
          "name": "stdout",
          "text": [
            "diabetes_012_health_indicators_BRFSS2021.csv  sample_data\n"
          ]
        }
      ]
    },
    {
      "cell_type": "markdown",
      "source": [
        "**Start**"
      ],
      "metadata": {
        "id": "KQpAJXayJiuw"
      }
    },
    {
      "cell_type": "code",
      "execution_count": null,
      "metadata": {
        "id": "7D2X_RvOJNhz"
      },
      "outputs": [],
      "source": [
        "import pandas as pd\n",
        "import numpy as np\n",
        "from sklearn.model_selection import train_test_split\n",
        "from sklearn.preprocessing import StandardScaler\n",
        "from sklearn.metrics import classification_report\n",
        "import tensorflow as tf"
      ]
    },
    {
      "cell_type": "code",
      "execution_count": null,
      "metadata": {
        "colab": {
          "base_uri": "https://localhost:8080/"
        },
        "id": "dXjQJVBoJNh1",
        "outputId": "57b563f8-f79a-4c3b-f2e5-07e197cda6f6"
      },
      "outputs": [
        {
          "output_type": "stream",
          "name": "stdout",
          "text": [
            "   Diabetes_012  HighBP  HighChol  CholCheck   BMI  Smoker  Stroke  \\\n",
            "0           0.0       0       1.0          1  15.0     1.0     0.0   \n",
            "1           2.0       1       0.0          1  28.0     0.0     0.0   \n",
            "2           2.0       1       1.0          1  33.0     0.0     0.0   \n",
            "3           2.0       0       1.0          1  29.0     0.0     1.0   \n",
            "4           0.0       0       0.0          1  24.0     1.0     0.0   \n",
            "\n",
            "   HeartDiseaseorAttack  PhysActivity  Fruits  ...  AnyHealthcare  \\\n",
            "0                   0.0             0       1  ...              1   \n",
            "1                   1.0             0       1  ...              1   \n",
            "2                   0.0             1       1  ...              1   \n",
            "3                   1.0             1       1  ...              1   \n",
            "4                   0.0             0       0  ...              1   \n",
            "\n",
            "   NoDocbcCost  GenHlth  MentHlth  PhysHlth  DiffWalk  Sex  Age  Education  \\\n",
            "0          0.0      5.0      10.0      20.0       0.0    0   11        4.0   \n",
            "1          0.0      2.0       0.0       0.0       0.0    0   11        4.0   \n",
            "2          0.0      2.0      10.0       0.0       0.0    0    9        4.0   \n",
            "3          0.0      5.0       0.0      30.0       1.0    1   12        3.0   \n",
            "4          0.0      3.0       0.0       0.0       1.0    1   13        5.0   \n",
            "\n",
            "   Income  \n",
            "0     5.0  \n",
            "1     3.0  \n",
            "2     7.0  \n",
            "3     4.0  \n",
            "4     6.0  \n",
            "\n",
            "[5 rows x 22 columns]\n",
            "Diabetes_012            0\n",
            "HighBP                  0\n",
            "HighChol                0\n",
            "CholCheck               0\n",
            "BMI                     0\n",
            "Smoker                  0\n",
            "Stroke                  0\n",
            "HeartDiseaseorAttack    0\n",
            "PhysActivity            0\n",
            "Fruits                  0\n",
            "Veggies                 0\n",
            "HvyAlcoholConsump       0\n",
            "AnyHealthcare           0\n",
            "NoDocbcCost             0\n",
            "GenHlth                 0\n",
            "MentHlth                0\n",
            "PhysHlth                0\n",
            "DiffWalk                0\n",
            "Sex                     0\n",
            "Age                     0\n",
            "Education               0\n",
            "Income                  0\n",
            "dtype: int64\n"
          ]
        }
      ],
      "source": [
        "data = pd.read_csv('diabetes_012_health_indicators_BRFSS2021.csv')\n",
        "\n",
        "# Display first few rows of the dataset\n",
        "print(data.head())\n",
        "\n",
        "# Check for missing values\n",
        "print(data.isnull().sum())"
      ]
    },
    {
      "cell_type": "code",
      "execution_count": null,
      "metadata": {
        "id": "6Jtyq-OnJNh2"
      },
      "outputs": [],
      "source": [
        "# tach cot Benh ly tieu duong ra khoi df\n",
        "X = data.drop('Diabetes_012', axis=1)\n",
        "y = data['Diabetes_012']\n",
        "\n",
        "X_train, X_test, y_train, y_test = train_test_split(X, y, test_size=0.2, random_state=42)\n",
        "\n",
        "# chuan hoa Scaler\n",
        "scaler = StandardScaler()\n",
        "X_train = scaler.fit_transform(X_train)\n",
        "X_test = scaler.transform(X_test)\n",
        "\n",
        "# chuyen thanh dang danh muc\n",
        "y_train = pd.get_dummies(y_train)\n",
        "y_test = pd.get_dummies(y_test)\n"
      ]
    },
    {
      "cell_type": "code",
      "execution_count": null,
      "metadata": {
        "colab": {
          "base_uri": "https://localhost:8080/"
        },
        "id": "VCJrZCCiJNh3",
        "outputId": "d3a808ba-c39f-4f11-fd8f-3c37706243ca"
      },
      "outputs": [
        {
          "output_type": "stream",
          "name": "stdout",
          "text": [
            "Epoch 1/50\n",
            "4728/4728 [==============================] - 17s 3ms/step - loss: 0.4414 - accuracy: 0.8372 - val_loss: 0.4284 - val_accuracy: 0.8399\n",
            "Epoch 2/50\n",
            "4728/4728 [==============================] - 12s 3ms/step - loss: 0.4313 - accuracy: 0.8383 - val_loss: 0.4254 - val_accuracy: 0.8414\n",
            "Epoch 3/50\n",
            "4728/4728 [==============================] - 13s 3ms/step - loss: 0.4294 - accuracy: 0.8383 - val_loss: 0.4251 - val_accuracy: 0.8409\n",
            "Epoch 4/50\n",
            "4728/4728 [==============================] - 12s 2ms/step - loss: 0.4287 - accuracy: 0.8382 - val_loss: 0.4266 - val_accuracy: 0.8388\n",
            "Epoch 5/50\n",
            "4728/4728 [==============================] - 13s 3ms/step - loss: 0.4281 - accuracy: 0.8387 - val_loss: 0.4259 - val_accuracy: 0.8416\n",
            "Epoch 6/50\n",
            "4728/4728 [==============================] - 12s 3ms/step - loss: 0.4275 - accuracy: 0.8382 - val_loss: 0.4242 - val_accuracy: 0.8411\n",
            "Epoch 7/50\n",
            "4728/4728 [==============================] - 13s 3ms/step - loss: 0.4266 - accuracy: 0.8390 - val_loss: 0.4266 - val_accuracy: 0.8404\n",
            "Epoch 8/50\n",
            "4728/4728 [==============================] - 12s 2ms/step - loss: 0.4270 - accuracy: 0.8390 - val_loss: 0.4280 - val_accuracy: 0.8406\n",
            "Epoch 9/50\n",
            "4728/4728 [==============================] - 13s 3ms/step - loss: 0.4266 - accuracy: 0.8396 - val_loss: 0.4250 - val_accuracy: 0.8414\n",
            "Epoch 10/50\n",
            "4728/4728 [==============================] - 11s 2ms/step - loss: 0.4270 - accuracy: 0.8394 - val_loss: 0.4259 - val_accuracy: 0.8401\n",
            "Epoch 11/50\n",
            "4728/4728 [==============================] - 12s 2ms/step - loss: 0.4265 - accuracy: 0.8384 - val_loss: 0.4252 - val_accuracy: 0.8411\n",
            "Epoch 12/50\n",
            "4728/4728 [==============================] - 11s 2ms/step - loss: 0.4264 - accuracy: 0.8393 - val_loss: 0.4243 - val_accuracy: 0.8412\n",
            "Epoch 13/50\n",
            "4728/4728 [==============================] - 12s 2ms/step - loss: 0.4260 - accuracy: 0.8389 - val_loss: 0.4264 - val_accuracy: 0.8400\n",
            "Epoch 14/50\n",
            "4728/4728 [==============================] - 12s 2ms/step - loss: 0.4257 - accuracy: 0.8391 - val_loss: 0.4248 - val_accuracy: 0.8407\n",
            "Epoch 15/50\n",
            "4728/4728 [==============================] - 13s 3ms/step - loss: 0.4259 - accuracy: 0.8392 - val_loss: 0.4248 - val_accuracy: 0.8402\n",
            "Epoch 16/50\n",
            "4728/4728 [==============================] - 11s 2ms/step - loss: 0.4255 - accuracy: 0.8391 - val_loss: 0.4249 - val_accuracy: 0.8406\n",
            "Epoch 17/50\n",
            "4728/4728 [==============================] - 12s 2ms/step - loss: 0.4252 - accuracy: 0.8396 - val_loss: 0.4263 - val_accuracy: 0.8404\n",
            "Epoch 18/50\n",
            "4728/4728 [==============================] - 12s 2ms/step - loss: 0.4253 - accuracy: 0.8395 - val_loss: 0.4263 - val_accuracy: 0.8405\n",
            "Epoch 19/50\n",
            "4728/4728 [==============================] - 12s 3ms/step - loss: 0.4250 - accuracy: 0.8399 - val_loss: 0.4274 - val_accuracy: 0.8412\n",
            "Epoch 20/50\n",
            "4728/4728 [==============================] - 11s 2ms/step - loss: 0.4249 - accuracy: 0.8399 - val_loss: 0.4250 - val_accuracy: 0.8409\n",
            "Epoch 21/50\n",
            "4728/4728 [==============================] - 15s 3ms/step - loss: 0.4248 - accuracy: 0.8393 - val_loss: 0.4251 - val_accuracy: 0.8409\n",
            "Epoch 22/50\n",
            "4728/4728 [==============================] - 12s 2ms/step - loss: 0.4249 - accuracy: 0.8402 - val_loss: 0.4246 - val_accuracy: 0.8412\n",
            "Epoch 23/50\n",
            "4728/4728 [==============================] - 12s 2ms/step - loss: 0.4247 - accuracy: 0.8399 - val_loss: 0.4267 - val_accuracy: 0.8395\n",
            "Epoch 24/50\n",
            "4728/4728 [==============================] - 13s 3ms/step - loss: 0.4250 - accuracy: 0.8395 - val_loss: 0.4255 - val_accuracy: 0.8410\n",
            "Epoch 25/50\n",
            "4728/4728 [==============================] - 13s 3ms/step - loss: 0.4242 - accuracy: 0.8400 - val_loss: 0.4248 - val_accuracy: 0.8411\n",
            "Epoch 26/50\n",
            "4728/4728 [==============================] - 12s 3ms/step - loss: 0.4245 - accuracy: 0.8400 - val_loss: 0.4266 - val_accuracy: 0.8418\n",
            "Epoch 27/50\n",
            "4728/4728 [==============================] - 12s 3ms/step - loss: 0.4248 - accuracy: 0.8399 - val_loss: 0.4263 - val_accuracy: 0.8396\n",
            "Epoch 28/50\n",
            "4728/4728 [==============================] - 12s 2ms/step - loss: 0.4242 - accuracy: 0.8398 - val_loss: 0.4261 - val_accuracy: 0.8393\n",
            "Epoch 29/50\n",
            "4728/4728 [==============================] - 11s 2ms/step - loss: 0.4241 - accuracy: 0.8399 - val_loss: 0.4255 - val_accuracy: 0.8408\n",
            "Epoch 30/50\n",
            "4728/4728 [==============================] - 12s 2ms/step - loss: 0.4236 - accuracy: 0.8401 - val_loss: 0.4250 - val_accuracy: 0.8405\n",
            "Epoch 31/50\n",
            "4728/4728 [==============================] - 13s 3ms/step - loss: 0.4240 - accuracy: 0.8398 - val_loss: 0.4268 - val_accuracy: 0.8406\n",
            "Epoch 32/50\n",
            "4728/4728 [==============================] - 12s 2ms/step - loss: 0.4241 - accuracy: 0.8403 - val_loss: 0.4260 - val_accuracy: 0.8409\n",
            "Epoch 33/50\n",
            "4728/4728 [==============================] - 13s 3ms/step - loss: 0.4240 - accuracy: 0.8398 - val_loss: 0.4250 - val_accuracy: 0.8408\n",
            "Epoch 34/50\n",
            "4728/4728 [==============================] - 13s 3ms/step - loss: 0.4236 - accuracy: 0.8399 - val_loss: 0.4257 - val_accuracy: 0.8413\n",
            "Epoch 35/50\n",
            "4728/4728 [==============================] - 12s 2ms/step - loss: 0.4235 - accuracy: 0.8404 - val_loss: 0.4254 - val_accuracy: 0.8412\n",
            "Epoch 36/50\n",
            "4728/4728 [==============================] - 11s 2ms/step - loss: 0.4234 - accuracy: 0.8404 - val_loss: 0.4261 - val_accuracy: 0.8411\n",
            "Epoch 37/50\n",
            "4728/4728 [==============================] - 12s 3ms/step - loss: 0.4236 - accuracy: 0.8406 - val_loss: 0.4264 - val_accuracy: 0.8407\n",
            "Epoch 38/50\n",
            "4728/4728 [==============================] - 12s 3ms/step - loss: 0.4235 - accuracy: 0.8405 - val_loss: 0.4261 - val_accuracy: 0.8392\n",
            "Epoch 39/50\n",
            "4728/4728 [==============================] - 12s 2ms/step - loss: 0.4232 - accuracy: 0.8400 - val_loss: 0.4289 - val_accuracy: 0.8408\n",
            "Epoch 40/50\n",
            "4728/4728 [==============================] - 12s 2ms/step - loss: 0.4237 - accuracy: 0.8403 - val_loss: 0.4268 - val_accuracy: 0.8414\n",
            "Epoch 41/50\n",
            "4728/4728 [==============================] - 12s 2ms/step - loss: 0.4231 - accuracy: 0.8407 - val_loss: 0.4259 - val_accuracy: 0.8411\n",
            "Epoch 42/50\n",
            "4728/4728 [==============================] - 13s 3ms/step - loss: 0.4233 - accuracy: 0.8403 - val_loss: 0.4259 - val_accuracy: 0.8404\n",
            "Epoch 43/50\n",
            "4728/4728 [==============================] - 12s 3ms/step - loss: 0.4234 - accuracy: 0.8410 - val_loss: 0.4278 - val_accuracy: 0.8395\n",
            "Epoch 44/50\n",
            "4728/4728 [==============================] - 11s 2ms/step - loss: 0.4231 - accuracy: 0.8405 - val_loss: 0.4268 - val_accuracy: 0.8407\n",
            "Epoch 45/50\n",
            "4728/4728 [==============================] - 12s 3ms/step - loss: 0.4230 - accuracy: 0.8408 - val_loss: 0.4263 - val_accuracy: 0.8405\n",
            "Epoch 46/50\n",
            "4728/4728 [==============================] - 12s 2ms/step - loss: 0.4229 - accuracy: 0.8404 - val_loss: 0.4255 - val_accuracy: 0.8411\n",
            "Epoch 47/50\n",
            "4728/4728 [==============================] - 12s 2ms/step - loss: 0.4235 - accuracy: 0.8403 - val_loss: 0.4262 - val_accuracy: 0.8417\n",
            "Epoch 48/50\n",
            "4728/4728 [==============================] - 12s 2ms/step - loss: 0.4225 - accuracy: 0.8406 - val_loss: 0.4261 - val_accuracy: 0.8407\n",
            "Epoch 49/50\n",
            "4728/4728 [==============================] - 12s 2ms/step - loss: 0.4230 - accuracy: 0.8399 - val_loss: 0.4256 - val_accuracy: 0.8418\n",
            "Epoch 50/50\n",
            "4728/4728 [==============================] - 11s 2ms/step - loss: 0.4222 - accuracy: 0.8409 - val_loss: 0.4311 - val_accuracy: 0.8383\n"
          ]
        }
      ],
      "source": [
        "model = tf.keras.Sequential([\n",
        "    tf.keras.layers.Dense(128, activation='relu', input_shape=(X_train.shape[1],)),\n",
        "    tf.keras.layers.Dropout(0.3),\n",
        "    tf.keras.layers.Dense(64, activation='relu'),\n",
        "    tf.keras.layers.Dropout(0.3),\n",
        "    tf.keras.layers.Dense(3, activation='softmax')  # tien hanh 3 output cho benh ly tieu duong: khong bi, loai 1, loai 2\n",
        "])\n",
        "\n",
        "# # model tuan tu\n",
        "model.compile(optimizer='adam', loss='categorical_crossentropy', metrics=['accuracy'])\n",
        "\n",
        "training = model.fit(X_train, y_train, epochs=50, batch_size=32, validation_split=0.2, verbose=1)"
      ]
    },
    {
      "cell_type": "code",
      "execution_count": null,
      "metadata": {
        "colab": {
          "base_uri": "https://localhost:8080/"
        },
        "id": "eNVAUJgUJNh3",
        "outputId": "f780bb06-b471-46c5-a070-06e99a75e663"
      },
      "outputs": [
        {
          "output_type": "stream",
          "name": "stdout",
          "text": [
            "1478/1478 [==============================] - 2s 1ms/step - loss: 0.3881 - accuracy: 0.8534\n",
            "Accuracy: 85.34%\n",
            "1478/1478 [==============================] - 2s 1ms/step\n",
            "              precision    recall  f1-score   support\n",
            "\n",
            "           0       0.86      0.98      0.92     39508\n",
            "           1       0.00      0.00      0.00      1079\n",
            "           2       0.67      0.22      0.33      6689\n",
            "\n",
            "    accuracy                           0.85     47276\n",
            "   macro avg       0.51      0.40      0.42     47276\n",
            "weighted avg       0.82      0.85      0.81     47276\n",
            "\n"
          ]
        },
        {
          "output_type": "stream",
          "name": "stderr",
          "text": [
            "/usr/local/lib/python3.10/dist-packages/sklearn/metrics/_classification.py:1344: UndefinedMetricWarning: Precision and F-score are ill-defined and being set to 0.0 in labels with no predicted samples. Use `zero_division` parameter to control this behavior.\n",
            "  _warn_prf(average, modifier, msg_start, len(result))\n",
            "/usr/local/lib/python3.10/dist-packages/sklearn/metrics/_classification.py:1344: UndefinedMetricWarning: Precision and F-score are ill-defined and being set to 0.0 in labels with no predicted samples. Use `zero_division` parameter to control this behavior.\n",
            "  _warn_prf(average, modifier, msg_start, len(result))\n",
            "/usr/local/lib/python3.10/dist-packages/sklearn/metrics/_classification.py:1344: UndefinedMetricWarning: Precision and F-score are ill-defined and being set to 0.0 in labels with no predicted samples. Use `zero_division` parameter to control this behavior.\n",
            "  _warn_prf(average, modifier, msg_start, len(result))\n"
          ]
        }
      ],
      "source": [
        "loss, accuracy = model.evaluate(X_test, y_test)\n",
        "print(f\"Accuracy: {accuracy*100:.2f}%\")\n",
        "\n",
        "# pred\n",
        "y_pred = model.predict(X_test)\n",
        "y_pred_classes = np.argmax(y_pred, axis=1)\n",
        "y_true = np.argmax(np.array(y_test), axis=1)\n",
        "\n",
        "# Report\n",
        "print(classification_report(y_true, y_pred_classes))"
      ]
    },
    {
      "cell_type": "markdown",
      "source": [
        "Mô hình này có loss và accuracy biến động không nhiều nên mô hình không bị overfitting"
      ],
      "metadata": {
        "id": "jke3lu2xfyke"
      }
    }
  ],
  "metadata": {
    "kernelspec": {
      "display_name": "base",
      "language": "python",
      "name": "python3"
    },
    "language_info": {
      "codemirror_mode": {
        "name": "ipython",
        "version": 3
      },
      "file_extension": ".py",
      "mimetype": "text/x-python",
      "name": "python",
      "nbconvert_exporter": "python",
      "pygments_lexer": "ipython3",
      "version": "3.11.5"
    },
    "colab": {
      "provenance": []
    }
  },
  "nbformat": 4,
  "nbformat_minor": 0
}