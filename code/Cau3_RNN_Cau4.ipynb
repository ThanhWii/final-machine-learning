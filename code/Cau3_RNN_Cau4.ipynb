{
  "cells": [
    {
      "cell_type": "markdown",
      "source": [
        "# TRẦN ĐỖ TRUNG KIÊN – 52000679\n",
        "# HUỲNH HỒNG SƠN - 52000795\n",
        "# NGUYỄN THÀNH HUY - 52100895"
      ],
      "metadata": {
        "id": "GaWSdoO_yp8K"
      }
    },
    {
      "cell_type": "code",
      "source": [
        "from google.colab import files\n",
        "uploaded = files.upload()"
      ],
      "metadata": {
        "colab": {
          "base_uri": "https://localhost:8080/",
          "height": 73
        },
        "id": "JjoChpmDF1Xr",
        "outputId": "f05f6d78-deaa-4c9c-cffb-e46415b84322"
      },
      "execution_count": null,
      "outputs": [
        {
          "output_type": "display_data",
          "data": {
            "text/plain": [
              "<IPython.core.display.HTML object>"
            ],
            "text/html": [
              "\n",
              "     <input type=\"file\" id=\"files-7a6e2234-ef91-4386-9b62-96505e41b8a3\" name=\"files[]\" multiple disabled\n",
              "        style=\"border:none\" />\n",
              "     <output id=\"result-7a6e2234-ef91-4386-9b62-96505e41b8a3\">\n",
              "      Upload widget is only available when the cell has been executed in the\n",
              "      current browser session. Please rerun this cell to enable.\n",
              "      </output>\n",
              "      <script>// Copyright 2017 Google LLC\n",
              "//\n",
              "// Licensed under the Apache License, Version 2.0 (the \"License\");\n",
              "// you may not use this file except in compliance with the License.\n",
              "// You may obtain a copy of the License at\n",
              "//\n",
              "//      http://www.apache.org/licenses/LICENSE-2.0\n",
              "//\n",
              "// Unless required by applicable law or agreed to in writing, software\n",
              "// distributed under the License is distributed on an \"AS IS\" BASIS,\n",
              "// WITHOUT WARRANTIES OR CONDITIONS OF ANY KIND, either express or implied.\n",
              "// See the License for the specific language governing permissions and\n",
              "// limitations under the License.\n",
              "\n",
              "/**\n",
              " * @fileoverview Helpers for google.colab Python module.\n",
              " */\n",
              "(function(scope) {\n",
              "function span(text, styleAttributes = {}) {\n",
              "  const element = document.createElement('span');\n",
              "  element.textContent = text;\n",
              "  for (const key of Object.keys(styleAttributes)) {\n",
              "    element.style[key] = styleAttributes[key];\n",
              "  }\n",
              "  return element;\n",
              "}\n",
              "\n",
              "// Max number of bytes which will be uploaded at a time.\n",
              "const MAX_PAYLOAD_SIZE = 100 * 1024;\n",
              "\n",
              "function _uploadFiles(inputId, outputId) {\n",
              "  const steps = uploadFilesStep(inputId, outputId);\n",
              "  const outputElement = document.getElementById(outputId);\n",
              "  // Cache steps on the outputElement to make it available for the next call\n",
              "  // to uploadFilesContinue from Python.\n",
              "  outputElement.steps = steps;\n",
              "\n",
              "  return _uploadFilesContinue(outputId);\n",
              "}\n",
              "\n",
              "// This is roughly an async generator (not supported in the browser yet),\n",
              "// where there are multiple asynchronous steps and the Python side is going\n",
              "// to poll for completion of each step.\n",
              "// This uses a Promise to block the python side on completion of each step,\n",
              "// then passes the result of the previous step as the input to the next step.\n",
              "function _uploadFilesContinue(outputId) {\n",
              "  const outputElement = document.getElementById(outputId);\n",
              "  const steps = outputElement.steps;\n",
              "\n",
              "  const next = steps.next(outputElement.lastPromiseValue);\n",
              "  return Promise.resolve(next.value.promise).then((value) => {\n",
              "    // Cache the last promise value to make it available to the next\n",
              "    // step of the generator.\n",
              "    outputElement.lastPromiseValue = value;\n",
              "    return next.value.response;\n",
              "  });\n",
              "}\n",
              "\n",
              "/**\n",
              " * Generator function which is called between each async step of the upload\n",
              " * process.\n",
              " * @param {string} inputId Element ID of the input file picker element.\n",
              " * @param {string} outputId Element ID of the output display.\n",
              " * @return {!Iterable<!Object>} Iterable of next steps.\n",
              " */\n",
              "function* uploadFilesStep(inputId, outputId) {\n",
              "  const inputElement = document.getElementById(inputId);\n",
              "  inputElement.disabled = false;\n",
              "\n",
              "  const outputElement = document.getElementById(outputId);\n",
              "  outputElement.innerHTML = '';\n",
              "\n",
              "  const pickedPromise = new Promise((resolve) => {\n",
              "    inputElement.addEventListener('change', (e) => {\n",
              "      resolve(e.target.files);\n",
              "    });\n",
              "  });\n",
              "\n",
              "  const cancel = document.createElement('button');\n",
              "  inputElement.parentElement.appendChild(cancel);\n",
              "  cancel.textContent = 'Cancel upload';\n",
              "  const cancelPromise = new Promise((resolve) => {\n",
              "    cancel.onclick = () => {\n",
              "      resolve(null);\n",
              "    };\n",
              "  });\n",
              "\n",
              "  // Wait for the user to pick the files.\n",
              "  const files = yield {\n",
              "    promise: Promise.race([pickedPromise, cancelPromise]),\n",
              "    response: {\n",
              "      action: 'starting',\n",
              "    }\n",
              "  };\n",
              "\n",
              "  cancel.remove();\n",
              "\n",
              "  // Disable the input element since further picks are not allowed.\n",
              "  inputElement.disabled = true;\n",
              "\n",
              "  if (!files) {\n",
              "    return {\n",
              "      response: {\n",
              "        action: 'complete',\n",
              "      }\n",
              "    };\n",
              "  }\n",
              "\n",
              "  for (const file of files) {\n",
              "    const li = document.createElement('li');\n",
              "    li.append(span(file.name, {fontWeight: 'bold'}));\n",
              "    li.append(span(\n",
              "        `(${file.type || 'n/a'}) - ${file.size} bytes, ` +\n",
              "        `last modified: ${\n",
              "            file.lastModifiedDate ? file.lastModifiedDate.toLocaleDateString() :\n",
              "                                    'n/a'} - `));\n",
              "    const percent = span('0% done');\n",
              "    li.appendChild(percent);\n",
              "\n",
              "    outputElement.appendChild(li);\n",
              "\n",
              "    const fileDataPromise = new Promise((resolve) => {\n",
              "      const reader = new FileReader();\n",
              "      reader.onload = (e) => {\n",
              "        resolve(e.target.result);\n",
              "      };\n",
              "      reader.readAsArrayBuffer(file);\n",
              "    });\n",
              "    // Wait for the data to be ready.\n",
              "    let fileData = yield {\n",
              "      promise: fileDataPromise,\n",
              "      response: {\n",
              "        action: 'continue',\n",
              "      }\n",
              "    };\n",
              "\n",
              "    // Use a chunked sending to avoid message size limits. See b/62115660.\n",
              "    let position = 0;\n",
              "    do {\n",
              "      const length = Math.min(fileData.byteLength - position, MAX_PAYLOAD_SIZE);\n",
              "      const chunk = new Uint8Array(fileData, position, length);\n",
              "      position += length;\n",
              "\n",
              "      const base64 = btoa(String.fromCharCode.apply(null, chunk));\n",
              "      yield {\n",
              "        response: {\n",
              "          action: 'append',\n",
              "          file: file.name,\n",
              "          data: base64,\n",
              "        },\n",
              "      };\n",
              "\n",
              "      let percentDone = fileData.byteLength === 0 ?\n",
              "          100 :\n",
              "          Math.round((position / fileData.byteLength) * 100);\n",
              "      percent.textContent = `${percentDone}% done`;\n",
              "\n",
              "    } while (position < fileData.byteLength);\n",
              "  }\n",
              "\n",
              "  // All done.\n",
              "  yield {\n",
              "    response: {\n",
              "      action: 'complete',\n",
              "    }\n",
              "  };\n",
              "}\n",
              "\n",
              "scope.google = scope.google || {};\n",
              "scope.google.colab = scope.google.colab || {};\n",
              "scope.google.colab._files = {\n",
              "  _uploadFiles,\n",
              "  _uploadFilesContinue,\n",
              "};\n",
              "})(self);\n",
              "</script> "
            ]
          },
          "metadata": {}
        },
        {
          "output_type": "stream",
          "name": "stdout",
          "text": [
            "Saving diabetes_012_health_indicators_BRFSS2021.csv to diabetes_012_health_indicators_BRFSS2021.csv\n"
          ]
        }
      ]
    },
    {
      "cell_type": "code",
      "source": [
        "!ls"
      ],
      "metadata": {
        "colab": {
          "base_uri": "https://localhost:8080/"
        },
        "id": "NJsaAR9qF3Ed",
        "outputId": "2e3fd86e-9ee6-48f4-c2be-fa60ad54347e"
      },
      "execution_count": null,
      "outputs": [
        {
          "output_type": "stream",
          "name": "stdout",
          "text": [
            "diabetes_012_health_indicators_BRFSS2021.csv  sample_data\n"
          ]
        }
      ]
    },
    {
      "cell_type": "code",
      "execution_count": null,
      "metadata": {
        "id": "FOEbc3BqFs6R"
      },
      "outputs": [],
      "source": [
        "import pandas as pd\n",
        "import numpy as np\n",
        "from sklearn.model_selection import train_test_split\n",
        "from sklearn.preprocessing import StandardScaler\n",
        "from sklearn.metrics import classification_report\n",
        "import tensorflow as tf"
      ]
    },
    {
      "cell_type": "code",
      "execution_count": null,
      "metadata": {
        "colab": {
          "base_uri": "https://localhost:8080/"
        },
        "id": "wGjus54qFs6X",
        "outputId": "4002594d-502b-44e9-efbf-16a33113de1a"
      },
      "outputs": [
        {
          "output_type": "stream",
          "name": "stdout",
          "text": [
            "   Diabetes_012  HighBP  HighChol  CholCheck   BMI  Smoker  Stroke  \\\n",
            "0           0.0       0       1.0          1  15.0     1.0     0.0   \n",
            "1           2.0       1       0.0          1  28.0     0.0     0.0   \n",
            "2           2.0       1       1.0          1  33.0     0.0     0.0   \n",
            "3           2.0       0       1.0          1  29.0     0.0     1.0   \n",
            "4           0.0       0       0.0          1  24.0     1.0     0.0   \n",
            "\n",
            "   HeartDiseaseorAttack  PhysActivity  Fruits  ...  AnyHealthcare  \\\n",
            "0                   0.0             0       1  ...              1   \n",
            "1                   1.0             0       1  ...              1   \n",
            "2                   0.0             1       1  ...              1   \n",
            "3                   1.0             1       1  ...              1   \n",
            "4                   0.0             0       0  ...              1   \n",
            "\n",
            "   NoDocbcCost  GenHlth  MentHlth  PhysHlth  DiffWalk  Sex  Age  Education  \\\n",
            "0          0.0      5.0      10.0      20.0       0.0    0   11        4.0   \n",
            "1          0.0      2.0       0.0       0.0       0.0    0   11        4.0   \n",
            "2          0.0      2.0      10.0       0.0       0.0    0    9        4.0   \n",
            "3          0.0      5.0       0.0      30.0       1.0    1   12        3.0   \n",
            "4          0.0      3.0       0.0       0.0       1.0    1   13        5.0   \n",
            "\n",
            "   Income  \n",
            "0     5.0  \n",
            "1     3.0  \n",
            "2     7.0  \n",
            "3     4.0  \n",
            "4     6.0  \n",
            "\n",
            "[5 rows x 22 columns]\n",
            "Diabetes_012            0\n",
            "HighBP                  0\n",
            "HighChol                0\n",
            "CholCheck               0\n",
            "BMI                     0\n",
            "Smoker                  0\n",
            "Stroke                  0\n",
            "HeartDiseaseorAttack    0\n",
            "PhysActivity            0\n",
            "Fruits                  0\n",
            "Veggies                 0\n",
            "HvyAlcoholConsump       0\n",
            "AnyHealthcare           0\n",
            "NoDocbcCost             0\n",
            "GenHlth                 0\n",
            "MentHlth                0\n",
            "PhysHlth                0\n",
            "DiffWalk                0\n",
            "Sex                     0\n",
            "Age                     0\n",
            "Education               0\n",
            "Income                  0\n",
            "dtype: int64\n"
          ]
        }
      ],
      "source": [
        "data = pd.read_csv('diabetes_012_health_indicators_BRFSS2021.csv')\n",
        "\n",
        "print(data.head())\n",
        "\n",
        "# Kiểm tra các missing value\n",
        "print(data.isnull().sum())"
      ]
    },
    {
      "cell_type": "code",
      "execution_count": null,
      "metadata": {
        "id": "dnfkq1E_Fs6Z"
      },
      "outputs": [],
      "source": [
        "# Tách cột bệnh lý tiểu đường ra khỏi df\n",
        "X = data.drop('Diabetes_012', axis=1)\n",
        "y = data['Diabetes_012']\n",
        "\n",
        "X_train, X_test, y_train, y_test = train_test_split(X, y, test_size=0.2, random_state=42)\n",
        "\n",
        "# Tối ưu hóa LSTM\n",
        "X_train = np.reshape(X_train.values, (X_train.shape[0], 1, X_train.shape[1]))\n",
        "X_test = np.reshape(X_test.values, (X_test.shape[0], 1, X_test.shape[1]))\n",
        "\n",
        "# Loại bỏ dummy variable trap\n",
        "y_train = pd.get_dummies(y_train)\n",
        "y_test = pd.get_dummies(y_test)"
      ]
    },
    {
      "cell_type": "code",
      "execution_count": null,
      "metadata": {
        "colab": {
          "base_uri": "https://localhost:8080/"
        },
        "id": "RLimGrFFFs6Z",
        "outputId": "361815a0-224e-4b96-9ece-ddfd1d527de4"
      },
      "outputs": [
        {
          "output_type": "stream",
          "name": "stdout",
          "text": [
            "Epoch 1/50\n",
            "4728/4728 [==============================] - 46s 9ms/step - loss: 0.4420 - accuracy: 0.8366 - val_loss: 0.4310 - val_accuracy: 0.8378\n",
            "Epoch 2/50\n",
            "4728/4728 [==============================] - 38s 8ms/step - loss: 0.4329 - accuracy: 0.8375 - val_loss: 0.4315 - val_accuracy: 0.8369\n",
            "Epoch 3/50\n",
            "4728/4728 [==============================] - 40s 8ms/step - loss: 0.4312 - accuracy: 0.8378 - val_loss: 0.4258 - val_accuracy: 0.8403\n",
            "Epoch 4/50\n",
            "4728/4728 [==============================] - 42s 9ms/step - loss: 0.4297 - accuracy: 0.8385 - val_loss: 0.4262 - val_accuracy: 0.8407\n",
            "Epoch 5/50\n",
            "4728/4728 [==============================] - 40s 8ms/step - loss: 0.4294 - accuracy: 0.8385 - val_loss: 0.4261 - val_accuracy: 0.8385\n",
            "Epoch 6/50\n",
            "4728/4728 [==============================] - 40s 8ms/step - loss: 0.4289 - accuracy: 0.8383 - val_loss: 0.4260 - val_accuracy: 0.8383\n",
            "Epoch 7/50\n",
            "4728/4728 [==============================] - 39s 8ms/step - loss: 0.4281 - accuracy: 0.8387 - val_loss: 0.4253 - val_accuracy: 0.8400\n",
            "Epoch 8/50\n",
            "4728/4728 [==============================] - 40s 8ms/step - loss: 0.4277 - accuracy: 0.8391 - val_loss: 0.4248 - val_accuracy: 0.8408\n",
            "Epoch 9/50\n",
            "4728/4728 [==============================] - 38s 8ms/step - loss: 0.4274 - accuracy: 0.8389 - val_loss: 0.4253 - val_accuracy: 0.8398\n",
            "Epoch 10/50\n",
            "4728/4728 [==============================] - 38s 8ms/step - loss: 0.4272 - accuracy: 0.8387 - val_loss: 0.4269 - val_accuracy: 0.8378\n",
            "Epoch 11/50\n",
            "4728/4728 [==============================] - 39s 8ms/step - loss: 0.4273 - accuracy: 0.8392 - val_loss: 0.4249 - val_accuracy: 0.8403\n",
            "Epoch 12/50\n",
            "4728/4728 [==============================] - 38s 8ms/step - loss: 0.4271 - accuracy: 0.8386 - val_loss: 0.4260 - val_accuracy: 0.8404\n",
            "Epoch 13/50\n",
            "4728/4728 [==============================] - 39s 8ms/step - loss: 0.4269 - accuracy: 0.8388 - val_loss: 0.4250 - val_accuracy: 0.8402\n",
            "Epoch 14/50\n",
            "4728/4728 [==============================] - 39s 8ms/step - loss: 0.4265 - accuracy: 0.8390 - val_loss: 0.4293 - val_accuracy: 0.8408\n",
            "Epoch 15/50\n",
            "4728/4728 [==============================] - 40s 8ms/step - loss: 0.4264 - accuracy: 0.8393 - val_loss: 0.4246 - val_accuracy: 0.8408\n",
            "Epoch 16/50\n",
            "4728/4728 [==============================] - 41s 9ms/step - loss: 0.4261 - accuracy: 0.8387 - val_loss: 0.4257 - val_accuracy: 0.8413\n",
            "Epoch 17/50\n",
            "4728/4728 [==============================] - 37s 8ms/step - loss: 0.4261 - accuracy: 0.8390 - val_loss: 0.4252 - val_accuracy: 0.8406\n",
            "Epoch 18/50\n",
            "4728/4728 [==============================] - 37s 8ms/step - loss: 0.4258 - accuracy: 0.8388 - val_loss: 0.4252 - val_accuracy: 0.8410\n",
            "Epoch 19/50\n",
            "4728/4728 [==============================] - 38s 8ms/step - loss: 0.4258 - accuracy: 0.8394 - val_loss: 0.4260 - val_accuracy: 0.8410\n",
            "Epoch 20/50\n",
            "4728/4728 [==============================] - 38s 8ms/step - loss: 0.4256 - accuracy: 0.8395 - val_loss: 0.4240 - val_accuracy: 0.8407\n",
            "Epoch 21/50\n",
            "4728/4728 [==============================] - 38s 8ms/step - loss: 0.4256 - accuracy: 0.8396 - val_loss: 0.4243 - val_accuracy: 0.8421\n",
            "Epoch 22/50\n",
            "4728/4728 [==============================] - 39s 8ms/step - loss: 0.4253 - accuracy: 0.8396 - val_loss: 0.4256 - val_accuracy: 0.8405\n",
            "Epoch 23/50\n",
            "4728/4728 [==============================] - 39s 8ms/step - loss: 0.4253 - accuracy: 0.8396 - val_loss: 0.4258 - val_accuracy: 0.8408\n",
            "Epoch 24/50\n",
            "4728/4728 [==============================] - 37s 8ms/step - loss: 0.4251 - accuracy: 0.8393 - val_loss: 0.4243 - val_accuracy: 0.8415\n",
            "Epoch 25/50\n",
            "4728/4728 [==============================] - 37s 8ms/step - loss: 0.4252 - accuracy: 0.8395 - val_loss: 0.4245 - val_accuracy: 0.8404\n",
            "Epoch 26/50\n",
            "4728/4728 [==============================] - 38s 8ms/step - loss: 0.4249 - accuracy: 0.8398 - val_loss: 0.4239 - val_accuracy: 0.8409\n",
            "Epoch 27/50\n",
            "4728/4728 [==============================] - 37s 8ms/step - loss: 0.4248 - accuracy: 0.8396 - val_loss: 0.4254 - val_accuracy: 0.8388\n",
            "Epoch 28/50\n",
            "4728/4728 [==============================] - 37s 8ms/step - loss: 0.4247 - accuracy: 0.8398 - val_loss: 0.4274 - val_accuracy: 0.8392\n",
            "Epoch 29/50\n",
            "4728/4728 [==============================] - 38s 8ms/step - loss: 0.4248 - accuracy: 0.8397 - val_loss: 0.4249 - val_accuracy: 0.8406\n",
            "Epoch 30/50\n",
            "4728/4728 [==============================] - 37s 8ms/step - loss: 0.4247 - accuracy: 0.8395 - val_loss: 0.4256 - val_accuracy: 0.8409\n",
            "Epoch 31/50\n",
            "4728/4728 [==============================] - 38s 8ms/step - loss: 0.4241 - accuracy: 0.8395 - val_loss: 0.4263 - val_accuracy: 0.8400\n",
            "Epoch 32/50\n",
            "4728/4728 [==============================] - 37s 8ms/step - loss: 0.4249 - accuracy: 0.8397 - val_loss: 0.4252 - val_accuracy: 0.8401\n",
            "Epoch 33/50\n",
            "4728/4728 [==============================] - 31s 7ms/step - loss: 0.4244 - accuracy: 0.8391 - val_loss: 0.4245 - val_accuracy: 0.8409\n",
            "Epoch 34/50\n",
            "4728/4728 [==============================] - 31s 7ms/step - loss: 0.4242 - accuracy: 0.8401 - val_loss: 0.4252 - val_accuracy: 0.8411\n",
            "Epoch 35/50\n",
            "4728/4728 [==============================] - 32s 7ms/step - loss: 0.4244 - accuracy: 0.8404 - val_loss: 0.4277 - val_accuracy: 0.8397\n",
            "Epoch 36/50\n",
            "4728/4728 [==============================] - 31s 7ms/step - loss: 0.4242 - accuracy: 0.8398 - val_loss: 0.4253 - val_accuracy: 0.8411\n",
            "Epoch 37/50\n",
            "4728/4728 [==============================] - 31s 6ms/step - loss: 0.4244 - accuracy: 0.8402 - val_loss: 0.4263 - val_accuracy: 0.8413\n",
            "Epoch 38/50\n",
            "4728/4728 [==============================] - 32s 7ms/step - loss: 0.4243 - accuracy: 0.8397 - val_loss: 0.4262 - val_accuracy: 0.8393\n",
            "Epoch 39/50\n",
            "4728/4728 [==============================] - 31s 7ms/step - loss: 0.4241 - accuracy: 0.8400 - val_loss: 0.4258 - val_accuracy: 0.8404\n",
            "Epoch 40/50\n",
            "4728/4728 [==============================] - 34s 7ms/step - loss: 0.4237 - accuracy: 0.8398 - val_loss: 0.4251 - val_accuracy: 0.8411\n",
            "Epoch 41/50\n",
            "4728/4728 [==============================] - 31s 7ms/step - loss: 0.4240 - accuracy: 0.8397 - val_loss: 0.4249 - val_accuracy: 0.8411\n",
            "Epoch 42/50\n",
            "4728/4728 [==============================] - 34s 7ms/step - loss: 0.4240 - accuracy: 0.8401 - val_loss: 0.4261 - val_accuracy: 0.8409\n",
            "Epoch 43/50\n",
            "4728/4728 [==============================] - 33s 7ms/step - loss: 0.4241 - accuracy: 0.8399 - val_loss: 0.4259 - val_accuracy: 0.8406\n",
            "Epoch 44/50\n",
            "4728/4728 [==============================] - 32s 7ms/step - loss: 0.4235 - accuracy: 0.8396 - val_loss: 0.4259 - val_accuracy: 0.8419\n",
            "Epoch 45/50\n",
            "4728/4728 [==============================] - 31s 7ms/step - loss: 0.4236 - accuracy: 0.8401 - val_loss: 0.4253 - val_accuracy: 0.8407\n",
            "Epoch 46/50\n",
            "4728/4728 [==============================] - 31s 7ms/step - loss: 0.4236 - accuracy: 0.8394 - val_loss: 0.4265 - val_accuracy: 0.8416\n",
            "Epoch 47/50\n",
            "4728/4728 [==============================] - 33s 7ms/step - loss: 0.4238 - accuracy: 0.8401 - val_loss: 0.4254 - val_accuracy: 0.8405\n",
            "Epoch 48/50\n",
            "4728/4728 [==============================] - 31s 7ms/step - loss: 0.4235 - accuracy: 0.8403 - val_loss: 0.4252 - val_accuracy: 0.8406\n",
            "Epoch 49/50\n",
            "4728/4728 [==============================] - 31s 6ms/step - loss: 0.4235 - accuracy: 0.8402 - val_loss: 0.4254 - val_accuracy: 0.8400\n",
            "Epoch 50/50\n",
            "4728/4728 [==============================] - 32s 7ms/step - loss: 0.4232 - accuracy: 0.8398 - val_loss: 0.4268 - val_accuracy: 0.8414\n"
          ]
        }
      ],
      "source": [
        "model = tf.keras.Sequential([\n",
        "    tf.keras.layers.LSTM(128, input_shape=(X_train.shape[1], X_train.shape[2]), return_sequences=True),\n",
        "    tf.keras.layers.Dropout(0.3),\n",
        "    tf.keras.layers.LSTM(64, return_sequences=False),\n",
        "    tf.keras.layers.Dropout(0.3),\n",
        "    tf.keras.layers.Dense(3, activation='softmax')  # Assuming 2 classes for diabetes: 0 or 1\n",
        "])\n",
        "\n",
        "# model tuan tu\n",
        "model.compile(optimizer='adam', loss='categorical_crossentropy', metrics=['accuracy'])\n",
        "\n",
        "training = model.fit(X_train, y_train, epochs=50, batch_size=32, validation_split=0.2, verbose=1)"
      ]
    },
    {
      "cell_type": "code",
      "execution_count": null,
      "metadata": {
        "colab": {
          "base_uri": "https://localhost:8080/"
        },
        "id": "4HM5shNbFs6a",
        "outputId": "1856e61a-1a00-4d42-aea7-411a1b066305"
      },
      "outputs": [
        {
          "output_type": "stream",
          "name": "stdout",
          "text": [
            "1478/1478 [==============================] - 10s 7ms/step - loss: 0.4046 - accuracy: 0.8454\n",
            "Accuracy: 84.54%\n",
            "1478/1478 [==============================] - 8s 5ms/step\n",
            "              precision    recall  f1-score   support\n",
            "\n",
            "           0       0.86      0.98      0.91     39508\n",
            "           1       1.00      0.00      0.00      1079\n",
            "           2       0.59      0.18      0.28      6689\n",
            "\n",
            "    accuracy                           0.85     47276\n",
            "   macro avg       0.82      0.39      0.40     47276\n",
            "weighted avg       0.82      0.85      0.80     47276\n",
            "\n"
          ]
        }
      ],
      "source": [
        "loss, accuracy = model.evaluate(X_test, y_test)\n",
        "print(f\"Accuracy: {accuracy*100:.2f}%\")\n",
        "\n",
        "# Dự đoán từ dữ liệu train\n",
        "y_pred = model.predict(X_test)\n",
        "y_pred_classes = np.argmax(y_pred, axis=1)\n",
        "y_true = np.argmax(np.array(y_test), axis=1)\n",
        "\n",
        "# Report\n",
        "print(classification_report(y_true, y_pred_classes))"
      ]
    },
    {
      "cell_type": "markdown",
      "source": [
        "Mô hình này có loss và accuracy biến động không nhiều nên mô hình không bị overfitting"
      ],
      "metadata": {
        "id": "9osQ02ougSna"
      }
    }
  ],
  "metadata": {
    "kernelspec": {
      "display_name": "base",
      "language": "python",
      "name": "python3"
    },
    "language_info": {
      "codemirror_mode": {
        "name": "ipython",
        "version": 3
      },
      "file_extension": ".py",
      "mimetype": "text/x-python",
      "name": "python",
      "nbconvert_exporter": "python",
      "pygments_lexer": "ipython3",
      "version": "3.11.5"
    },
    "colab": {
      "provenance": []
    }
  },
  "nbformat": 4,
  "nbformat_minor": 0
}